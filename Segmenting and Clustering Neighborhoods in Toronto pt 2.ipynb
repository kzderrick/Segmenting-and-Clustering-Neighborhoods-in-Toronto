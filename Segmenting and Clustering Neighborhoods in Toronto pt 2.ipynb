{
 "cells": [
  {
   "cell_type": "markdown",
   "metadata": {},
   "source": [
    "# Coursera Week 3 Assignment\n",
    "## Identifying neighborhoods in toronto\n",
    "### Author: Kaemon Derrick\n",
    "### Date: 3/3/19\n"
   ]
  },
  {
   "cell_type": "markdown",
   "metadata": {},
   "source": [
    "### Import the libraries used for the asignment"
   ]
  },
  {
   "cell_type": "code",
   "execution_count": 1,
   "metadata": {},
   "outputs": [],
   "source": [
    "#Import libraries\n",
    "from urllib.request import urlopen\n",
    "from bs4 import BeautifulSoup\n",
    "import datetime\n",
    "import re\n",
    "import numpy as np\n",
    "import pandas as pd\n",
    "import csv\n",
    "\n",
    "#!conda install -c conda-forge folium=0.5.0 --yes \n",
    "import folium # map rendering library\n",
    "\n",
    "# import k-means from clustering stage\n",
    "from sklearn.cluster import KMeans\n",
    "\n",
    "import requests # library to handle requests\n",
    "from pandas.io.json import json_normalize # tranform JSON file into a pandas dataframe\n",
    "\n",
    "# Matplotlib and associated plotting modules\n",
    "import matplotlib.cm as cm\n",
    "import matplotlib.colors as colors"
   ]
  },
  {
   "cell_type": "markdown",
   "metadata": {},
   "source": [
    "## 1. Get toronto Postal Code information from Wikipedia"
   ]
  },
  {
   "cell_type": "markdown",
   "metadata": {},
   "source": [
    "### 1.1 HTML Formatting Functions "
   ]
  },
  {
   "cell_type": "code",
   "execution_count": 2,
   "metadata": {},
   "outputs": [],
   "source": [
    "# Author: Kaemon Derrick\n",
    "# Funtion: Remove_tags\n",
    "# Description: This function removes the html tags for the wikipedia page\n",
    "\n",
    "def remove_tags(data_arr_list):\n",
    "    tags = [\"<td>\", \"</td>\", \"\\n\", \"td>\" , \"</td\", \"]]\"]\n",
    "    for i in range(0, len(data_arr_list)):\n",
    "        for j in range(0, len(tags)):\n",
    "            if str(tags[j]) in str(data_arr_list[i]):\n",
    "                data_arr_list[i] = data_arr_list[i].replace(tags[j], \"\")\n",
    "                if 'title=\"' in str(data_arr_list[i]):\n",
    "                    data_arr_list[i] = str(data_arr_list[i]).split('title=\"')[1].split('\">')[0]\n",
    "    \n",
    "    return (data_arr_list)"
   ]
  },
  {
   "cell_type": "code",
   "execution_count": 3,
   "metadata": {},
   "outputs": [],
   "source": [
    "# Author: Kaemon Derrick\n",
    "# Funtion: compile_postal\n",
    "# Description: This function recursivly groups the postal codes and information such as the neighborhoods\n",
    "\n",
    "def compile_postal(data_arr_list):\n",
    "\n",
    "    #Compare the postal code to the next one in order\n",
    "    for i in range (0, len(data_arr_list)-3, 3):\n",
    "\n",
    "        if str(data_arr_list[i]) == str(data_arr_list[i+3]):\n",
    "            #Add to the current postal code\n",
    "            if str(data_arr_list[i+4]) not in data_arr_list[i+1]:\n",
    "                data_arr_list[i+1] = str(data_arr_list[i+1]) + \", \" + str(data_arr_list[i+4])\n",
    "            if str(data_arr_list[i+5]) not in data_arr_list[i+2]:\n",
    "                data_arr_list[i+2] = str(data_arr_list[i+2]) + \", \" + str(data_arr_list[i+5])\n",
    "            \n",
    "            #Remove old entry(s)\n",
    "            del(data_arr_list[i+3])\n",
    "            del(data_arr_list[i+3])\n",
    "            del(data_arr_list[i+3])\n",
    "            \n",
    "            data_arr_list = compile_postal(data_arr_list)\n",
    "            \n",
    "            break\n",
    "            \n",
    "    return data_arr_list"
   ]
  },
  {
   "cell_type": "code",
   "execution_count": 4,
   "metadata": {},
   "outputs": [],
   "source": [
    "# Author: Kaemon Derrick\n",
    "# Funtion: drop_na_borough\n",
    "# Description: Drop borough rows that are N/A - recurivly\n",
    "\n",
    "def drop_na_borough(data_arr_list):\n",
    "\n",
    "    for i in range (1, len(data_arr_list)-1, 3):\n",
    "        if str(data_arr_list[i]) == 'Not assigned':\n",
    "            \n",
    "            #Remove the row\n",
    "            del(data_arr_list[i-1])\n",
    "            del(data_arr_list[i-1])\n",
    "            del(data_arr_list[i-1])\n",
    "            \n",
    "            data_arr_list = drop_na_borough(data_arr_list)\n",
    "            break\n",
    "            \n",
    "    return data_arr_list"
   ]
  },
  {
   "cell_type": "code",
   "execution_count": 5,
   "metadata": {},
   "outputs": [],
   "source": [
    "# Author: Kaemon Derrick\n",
    "# Funtion: neighborhood_borough\n",
    "# Description: Assign borough value to neighborhood if neighborhood is N/A \n",
    " \n",
    "def neighborhood_borough(data_arr_list):\n",
    "    \n",
    "    for i in range (2, len(data_arr_list), 3):\n",
    "        if str(data_arr_list[i]) == 'Not assigned':\n",
    "            \n",
    "            data_arr_list[i] = str(data_arr_list[i-1])\n",
    "            data_arr_list = neighborhood_borough(data_arr_list)\n",
    "            \n",
    "            break\n",
    "            \n",
    "    return data_arr_list"
   ]
  },
  {
   "cell_type": "markdown",
   "metadata": {},
   "source": [
    "### 1.2 Identify Postal Code Information from the Wikipedia page"
   ]
  },
  {
   "cell_type": "code",
   "execution_count": 6,
   "metadata": {},
   "outputs": [],
   "source": [
    "# specify the url\n",
    "quote_page = \"https://en.wikipedia.org/wiki/List_of_postal_codes_of_Canada:_M\"\n",
    "\n",
    "# query the website and return the html to the variable ‘page’\n",
    "page = urlopen(quote_page)\n",
    "\n",
    "# parse the html using beautiful soup and store in variable `soup`\n",
    "soup = BeautifulSoup(page, \"html.parser\")\n",
    "\n",
    "#Define array to hold all of the data points\n",
    "data_arr = []\n",
    "\n",
    "#Get the first table in the html\n",
    "data = soup.findAll('table')\n",
    "\n",
    "#assign the cells to the array\n",
    "for row in data:\n",
    "    for item in row.findAll('td'):\n",
    "        if \"<td>\" in str(item):\n",
    "            data_arr.append(str(item))\n",
    "\n",
    "#Remove the last element in the list as it is invalid\n",
    "data_arr.pop()            \n",
    "\n",
    "#Clean up the tags and data points\n",
    "\n",
    "#Remove HTML tags\n",
    "data_arr = remove_tags(data_arr)\n",
    "\n",
    "#Compile postal codes\n",
    "data_arr = compile_postal(data_arr)\n",
    "\n",
    "#Drop Not assigned boroughs\n",
    "data_arr = drop_na_borough(data_arr)\n",
    "\n",
    "#Assign borough to n/a neighborhoods\n",
    "data_arr = neighborhood_borough(data_arr)"
   ]
  },
  {
   "cell_type": "markdown",
   "metadata": {},
   "source": [
    "## 2. Create a Pandas Dataframe with Toronto data"
   ]
  },
  {
   "cell_type": "markdown",
   "metadata": {},
   "source": [
    "### 2.1 Display the Dataframe with Wikipedia Information"
   ]
  },
  {
   "cell_type": "code",
   "execution_count": 7,
   "metadata": {},
   "outputs": [
    {
     "name": "stdout",
     "output_type": "stream",
     "text": [
      "(103, 3)\n"
     ]
    },
    {
     "data": {
      "text/html": [
       "<div>\n",
       "<style scoped>\n",
       "    .dataframe tbody tr th:only-of-type {\n",
       "        vertical-align: middle;\n",
       "    }\n",
       "\n",
       "    .dataframe tbody tr th {\n",
       "        vertical-align: top;\n",
       "    }\n",
       "\n",
       "    .dataframe thead th {\n",
       "        text-align: right;\n",
       "    }\n",
       "</style>\n",
       "<table border=\"1\" class=\"dataframe\">\n",
       "  <thead>\n",
       "    <tr style=\"text-align: right;\">\n",
       "      <th></th>\n",
       "      <th>Postal_Code</th>\n",
       "      <th>Borough</th>\n",
       "      <th>Neighborhood</th>\n",
       "    </tr>\n",
       "  </thead>\n",
       "  <tbody>\n",
       "    <tr>\n",
       "      <th>0</th>\n",
       "      <td>M3A</td>\n",
       "      <td>North York</td>\n",
       "      <td>Parkwoods</td>\n",
       "    </tr>\n",
       "    <tr>\n",
       "      <th>1</th>\n",
       "      <td>M4A</td>\n",
       "      <td>North York</td>\n",
       "      <td>Victoria Village</td>\n",
       "    </tr>\n",
       "    <tr>\n",
       "      <th>2</th>\n",
       "      <td>M5A</td>\n",
       "      <td>Downtown Toronto</td>\n",
       "      <td>Harbourfront (Toronto), Regent Park</td>\n",
       "    </tr>\n",
       "    <tr>\n",
       "      <th>3</th>\n",
       "      <td>M6A</td>\n",
       "      <td>North York</td>\n",
       "      <td>Lawrence Heights, Lawrence Manor</td>\n",
       "    </tr>\n",
       "    <tr>\n",
       "      <th>4</th>\n",
       "      <td>M7A</td>\n",
       "      <td>Queen's Park (Toronto)</td>\n",
       "      <td>Queen's Park (Toronto)</td>\n",
       "    </tr>\n",
       "  </tbody>\n",
       "</table>\n",
       "</div>"
      ],
      "text/plain": [
       "  Postal_Code                 Borough                         Neighborhood\n",
       "0         M3A              North York                            Parkwoods\n",
       "1         M4A              North York                     Victoria Village\n",
       "2         M5A        Downtown Toronto  Harbourfront (Toronto), Regent Park\n",
       "3         M6A              North York     Lawrence Heights, Lawrence Manor\n",
       "4         M7A  Queen's Park (Toronto)               Queen's Park (Toronto)"
      ]
     },
     "execution_count": 7,
     "metadata": {},
     "output_type": "execute_result"
    }
   ],
   "source": [
    "#Create a dictionary\n",
    "toronto_dict = {'Postal_Code':data_arr[0::3], 'Borough': data_arr[1::3], \n",
    "                                     'Neighborhood':data_arr[2::3] }\n",
    "\n",
    "#Pandas Data frame\n",
    "toronto_df = pd.DataFrame.from_dict(toronto_dict)\n",
    "\n",
    "#*********Uncomment these lines to focus only on those boroughs in Toronto - containing the word Toronto*********#\n",
    "#toronto_df = toronto_df[toronto_df['Borough'].str.contains(\"Toronto\")==True]\n",
    "#toronto_df.reset_index(drop=True, inplace=True)\n",
    "\n",
    "#Print the shape of the new frame and display the first 5 rows\n",
    "print(toronto_df.shape)\n",
    "\n",
    "toronto_df.head()"
   ]
  },
  {
   "cell_type": "markdown",
   "metadata": {},
   "source": [
    "### 2.2 Add location information to the Dataframe"
   ]
  },
  {
   "cell_type": "code",
   "execution_count": 8,
   "metadata": {},
   "outputs": [
    {
     "data": {
      "text/html": [
       "<div>\n",
       "<style scoped>\n",
       "    .dataframe tbody tr th:only-of-type {\n",
       "        vertical-align: middle;\n",
       "    }\n",
       "\n",
       "    .dataframe tbody tr th {\n",
       "        vertical-align: top;\n",
       "    }\n",
       "\n",
       "    .dataframe thead th {\n",
       "        text-align: right;\n",
       "    }\n",
       "</style>\n",
       "<table border=\"1\" class=\"dataframe\">\n",
       "  <thead>\n",
       "    <tr style=\"text-align: right;\">\n",
       "      <th></th>\n",
       "      <th>Postal_Code</th>\n",
       "      <th>Borough</th>\n",
       "      <th>Neighborhood</th>\n",
       "      <th>Latitude</th>\n",
       "      <th>Longitude</th>\n",
       "    </tr>\n",
       "  </thead>\n",
       "  <tbody>\n",
       "    <tr>\n",
       "      <th>0</th>\n",
       "      <td>M3A</td>\n",
       "      <td>North York</td>\n",
       "      <td>Parkwoods</td>\n",
       "      <td>43.753259</td>\n",
       "      <td>-79.329656</td>\n",
       "    </tr>\n",
       "    <tr>\n",
       "      <th>1</th>\n",
       "      <td>M4A</td>\n",
       "      <td>North York</td>\n",
       "      <td>Victoria Village</td>\n",
       "      <td>43.725882</td>\n",
       "      <td>-79.315572</td>\n",
       "    </tr>\n",
       "    <tr>\n",
       "      <th>2</th>\n",
       "      <td>M5A</td>\n",
       "      <td>Downtown Toronto</td>\n",
       "      <td>Harbourfront (Toronto), Regent Park</td>\n",
       "      <td>43.654260</td>\n",
       "      <td>-79.360636</td>\n",
       "    </tr>\n",
       "    <tr>\n",
       "      <th>3</th>\n",
       "      <td>M6A</td>\n",
       "      <td>North York</td>\n",
       "      <td>Lawrence Heights, Lawrence Manor</td>\n",
       "      <td>43.718518</td>\n",
       "      <td>-79.464763</td>\n",
       "    </tr>\n",
       "    <tr>\n",
       "      <th>4</th>\n",
       "      <td>M7A</td>\n",
       "      <td>Queen's Park (Toronto)</td>\n",
       "      <td>Queen's Park (Toronto)</td>\n",
       "      <td>43.662301</td>\n",
       "      <td>-79.389494</td>\n",
       "    </tr>\n",
       "  </tbody>\n",
       "</table>\n",
       "</div>"
      ],
      "text/plain": [
       "  Postal_Code                 Borough                         Neighborhood  \\\n",
       "0         M3A              North York                            Parkwoods   \n",
       "1         M4A              North York                     Victoria Village   \n",
       "2         M5A        Downtown Toronto  Harbourfront (Toronto), Regent Park   \n",
       "3         M6A              North York     Lawrence Heights, Lawrence Manor   \n",
       "4         M7A  Queen's Park (Toronto)               Queen's Park (Toronto)   \n",
       "\n",
       "    Latitude  Longitude  \n",
       "0  43.753259 -79.329656  \n",
       "1  43.725882 -79.315572  \n",
       "2  43.654260 -79.360636  \n",
       "3  43.718518 -79.464763  \n",
       "4  43.662301 -79.389494  "
      ]
     },
     "execution_count": 8,
     "metadata": {},
     "output_type": "execute_result"
    }
   ],
   "source": [
    "#Add the Latitude and Longitude columns to the table and initialize with placeholder information\n",
    "toronto_df['Latitude'] = 'Not Set'\n",
    "toronto_df['Longitude'] = 'Not Set'\n",
    "\n",
    "#Open file containing the geospacial coordinates for Toronto\n",
    "with open('Geospatial_Coordinates.csv', 'r') as csvfile:\n",
    "    geo_reader = csv.reader(csvfile, delimiter=',', quotechar='|')\n",
    "    for row in geo_reader:\n",
    "        #Find the postal code in the fame and add coordinates\n",
    "        toronto_df.loc[toronto_df['Postal_Code'] == str(row[0]), \"Latitude\"] = str(row[1])\n",
    "        toronto_df.loc[toronto_df['Postal_Code'] == str(row[0]), \"Longitude\"] = str(row[2])\n",
    "        \n",
    "#Set type to numeric\n",
    "toronto_df['Latitude'] = pd.to_numeric(toronto_df['Latitude'])\n",
    "toronto_df['Longitude'] = pd.to_numeric(toronto_df['Longitude'])\n",
    "\n",
    "\n",
    "toronto_df.head()"
   ]
  }
 ],
 "metadata": {
  "kernelspec": {
   "display_name": "Python 3",
   "language": "python",
   "name": "python3"
  },
  "language_info": {
   "codemirror_mode": {
    "name": "ipython",
    "version": 3
   },
   "file_extension": ".py",
   "mimetype": "text/x-python",
   "name": "python",
   "nbconvert_exporter": "python",
   "pygments_lexer": "ipython3",
   "version": "3.7.1"
  }
 },
 "nbformat": 4,
 "nbformat_minor": 2
}
